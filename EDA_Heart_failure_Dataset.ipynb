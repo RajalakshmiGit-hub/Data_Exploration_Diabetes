{
 "cells": [
  {
   "cell_type": "markdown",
   "metadata": {},
   "source": [
    "# Zero to pandas course project\n",
    "### Heart disease dataset\n",
    "\n",
    "We will now analyse data which contains the clinical factors that cause heart disease and a failure. The Heart failure clinical records Data Set is available in the UCI Machine Learning Repository. This dataset contains the medical records of 299 patients who had heart failure, collected during their follow-up period, where each patient profile has 13 clinical features.  For more information on the dataset click [here](https://archive.ics.uci.edu/ml/datasets/Heart+failure+clinical+records)."
   ]
  },
  {
   "cell_type": "markdown",
   "metadata": {},
   "source": [
    "### Downloading the dataset\n",
    "\n",
    "There are several options for getting the dataset into Jupyter:\n",
    "\n",
    "* Download the CSV manually and upload it via Jupyter's GUI\n",
    "* Use the urlretrieve function from the urllib.request to download CSV files from a raw URL\n",
    "* Use a helper library, e.g., opendatasets, which contains a collection of curated datasets and provides a helper function for direct download.\n",
    "\n",
    "We'll use the opendatasets helper library to download the files."
   ]
  },
  {
   "cell_type": "code",
   "execution_count": 1,
   "metadata": {
    "ExecuteTime": {
     "end_time": "2021-11-18T03:35:02.924517Z",
     "start_time": "2021-11-18T03:35:02.910516Z"
    }
   },
   "outputs": [],
   "source": [
    "#!pip install jovian opendatasets --upgrade --quiet"
   ]
  },
  {
   "cell_type": "code",
   "execution_count": 2,
   "metadata": {
    "ExecuteTime": {
     "end_time": "2021-11-18T03:35:03.141388Z",
     "start_time": "2021-11-18T03:35:02.927516Z"
    }
   },
   "outputs": [],
   "source": [
    "# Change this\n",
    "#dataset_url = 'https://www.kaggle.com/andrewmvd/heart-failure-clinical-data/tasks?taskId=1177' "
   ]
  },
  {
   "cell_type": "code",
   "execution_count": 3,
   "metadata": {
    "ExecuteTime": {
     "end_time": "2021-11-18T03:35:03.297709Z",
     "start_time": "2021-11-18T03:35:03.146387Z"
    }
   },
   "outputs": [],
   "source": [
    "# import opendatasets as od\n",
    "# od.download(dataset_url)"
   ]
  },
  {
   "cell_type": "code",
   "execution_count": 4,
   "metadata": {
    "ExecuteTime": {
     "end_time": "2021-11-18T03:35:03.456796Z",
     "start_time": "2021-11-18T03:35:03.308708Z"
    }
   },
   "outputs": [],
   "source": [
    "# # Change this\n",
    "# data_dir = './heart-failure-dataset'"
   ]
  },
  {
   "cell_type": "code",
   "execution_count": 5,
   "metadata": {
    "ExecuteTime": {
     "end_time": "2021-11-18T03:35:03.657669Z",
     "start_time": "2021-11-18T03:35:03.460797Z"
    }
   },
   "outputs": [],
   "source": [
    "# import os\n",
    "# os.listdir(data_dir)"
   ]
  },
  {
   "cell_type": "code",
   "execution_count": 6,
   "metadata": {
    "ExecuteTime": {
     "end_time": "2021-11-18T03:35:03.846464Z",
     "start_time": "2021-11-18T03:35:03.661668Z"
    }
   },
   "outputs": [],
   "source": [
    "# project_name = \"zerotopandas-course-project-rajalakshmi\" # change this (use lowercase letters and hyphens only)"
   ]
  },
  {
   "cell_type": "code",
   "execution_count": 7,
   "metadata": {
    "ExecuteTime": {
     "end_time": "2021-11-18T03:35:04.130920Z",
     "start_time": "2021-11-18T03:35:03.856465Z"
    }
   },
   "outputs": [],
   "source": [
    "# !pip install jovian --upgrade -q"
   ]
  },
  {
   "cell_type": "code",
   "execution_count": 8,
   "metadata": {
    "ExecuteTime": {
     "end_time": "2021-11-18T03:35:04.306002Z",
     "start_time": "2021-11-18T03:35:04.135920Z"
    }
   },
   "outputs": [],
   "source": [
    "# import jovian"
   ]
  },
  {
   "cell_type": "code",
   "execution_count": 9,
   "metadata": {
    "ExecuteTime": {
     "end_time": "2021-11-18T03:35:04.461063Z",
     "start_time": "2021-11-18T03:35:04.311003Z"
    }
   },
   "outputs": [],
   "source": [
    "# jovian.commit(project=project_name)"
   ]
  },
  {
   "cell_type": "code",
   "execution_count": 10,
   "metadata": {
    "ExecuteTime": {
     "end_time": "2021-11-18T03:35:31.352591Z",
     "start_time": "2021-11-18T03:35:04.465063Z"
    }
   },
   "outputs": [],
   "source": [
    "import pandas as pd\n",
    "import matplotlib.pyplot as plt\n",
    "import seaborn as sns\n",
    "import numpy as np"
   ]
  },
  {
   "cell_type": "code",
   "execution_count": 11,
   "metadata": {
    "ExecuteTime": {
     "end_time": "2021-11-18T03:35:31.896750Z",
     "start_time": "2021-11-18T03:35:31.359594Z"
    },
    "scrolled": true
   },
   "outputs": [
    {
     "data": {
      "text/html": [
       "<div>\n",
       "<style scoped>\n",
       "    .dataframe tbody tr th:only-of-type {\n",
       "        vertical-align: middle;\n",
       "    }\n",
       "\n",
       "    .dataframe tbody tr th {\n",
       "        vertical-align: top;\n",
       "    }\n",
       "\n",
       "    .dataframe thead th {\n",
       "        text-align: right;\n",
       "    }\n",
       "</style>\n",
       "<table border=\"1\" class=\"dataframe\">\n",
       "  <thead>\n",
       "    <tr style=\"text-align: right;\">\n",
       "      <th></th>\n",
       "      <th>age</th>\n",
       "      <th>anaemia</th>\n",
       "      <th>creatinine_phosphokinase</th>\n",
       "      <th>diabetes</th>\n",
       "      <th>ejection_fraction</th>\n",
       "      <th>high_blood_pressure</th>\n",
       "      <th>platelets</th>\n",
       "      <th>serum_creatinine</th>\n",
       "      <th>serum_sodium</th>\n",
       "      <th>sex</th>\n",
       "      <th>smoking</th>\n",
       "      <th>time</th>\n",
       "      <th>DEATH_EVENT</th>\n",
       "    </tr>\n",
       "  </thead>\n",
       "  <tbody>\n",
       "    <tr>\n",
       "      <th>0</th>\n",
       "      <td>75.0</td>\n",
       "      <td>0</td>\n",
       "      <td>582</td>\n",
       "      <td>0</td>\n",
       "      <td>20</td>\n",
       "      <td>1</td>\n",
       "      <td>265000.00</td>\n",
       "      <td>1.9</td>\n",
       "      <td>130</td>\n",
       "      <td>1</td>\n",
       "      <td>0</td>\n",
       "      <td>4</td>\n",
       "      <td>1</td>\n",
       "    </tr>\n",
       "    <tr>\n",
       "      <th>1</th>\n",
       "      <td>55.0</td>\n",
       "      <td>0</td>\n",
       "      <td>7861</td>\n",
       "      <td>0</td>\n",
       "      <td>38</td>\n",
       "      <td>0</td>\n",
       "      <td>263358.03</td>\n",
       "      <td>1.1</td>\n",
       "      <td>136</td>\n",
       "      <td>1</td>\n",
       "      <td>0</td>\n",
       "      <td>6</td>\n",
       "      <td>1</td>\n",
       "    </tr>\n",
       "    <tr>\n",
       "      <th>2</th>\n",
       "      <td>65.0</td>\n",
       "      <td>0</td>\n",
       "      <td>146</td>\n",
       "      <td>0</td>\n",
       "      <td>20</td>\n",
       "      <td>0</td>\n",
       "      <td>162000.00</td>\n",
       "      <td>1.3</td>\n",
       "      <td>129</td>\n",
       "      <td>1</td>\n",
       "      <td>1</td>\n",
       "      <td>7</td>\n",
       "      <td>1</td>\n",
       "    </tr>\n",
       "    <tr>\n",
       "      <th>3</th>\n",
       "      <td>50.0</td>\n",
       "      <td>1</td>\n",
       "      <td>111</td>\n",
       "      <td>0</td>\n",
       "      <td>20</td>\n",
       "      <td>0</td>\n",
       "      <td>210000.00</td>\n",
       "      <td>1.9</td>\n",
       "      <td>137</td>\n",
       "      <td>1</td>\n",
       "      <td>0</td>\n",
       "      <td>7</td>\n",
       "      <td>1</td>\n",
       "    </tr>\n",
       "    <tr>\n",
       "      <th>4</th>\n",
       "      <td>65.0</td>\n",
       "      <td>1</td>\n",
       "      <td>160</td>\n",
       "      <td>1</td>\n",
       "      <td>20</td>\n",
       "      <td>0</td>\n",
       "      <td>327000.00</td>\n",
       "      <td>2.7</td>\n",
       "      <td>116</td>\n",
       "      <td>0</td>\n",
       "      <td>0</td>\n",
       "      <td>8</td>\n",
       "      <td>1</td>\n",
       "    </tr>\n",
       "  </tbody>\n",
       "</table>\n",
       "</div>"
      ],
      "text/plain": [
       "    age  anaemia  creatinine_phosphokinase  diabetes  ejection_fraction  \\\n",
       "0  75.0        0                       582         0                 20   \n",
       "1  55.0        0                      7861         0                 38   \n",
       "2  65.0        0                       146         0                 20   \n",
       "3  50.0        1                       111         0                 20   \n",
       "4  65.0        1                       160         1                 20   \n",
       "\n",
       "   high_blood_pressure  platelets  serum_creatinine  serum_sodium  sex  \\\n",
       "0                    1  265000.00               1.9           130    1   \n",
       "1                    0  263358.03               1.1           136    1   \n",
       "2                    0  162000.00               1.3           129    1   \n",
       "3                    0  210000.00               1.9           137    1   \n",
       "4                    0  327000.00               2.7           116    0   \n",
       "\n",
       "   smoking  time  DEATH_EVENT  \n",
       "0        0     4            1  \n",
       "1        0     6            1  \n",
       "2        1     7            1  \n",
       "3        0     7            1  \n",
       "4        0     8            1  "
      ]
     },
     "execution_count": 11,
     "metadata": {},
     "output_type": "execute_result"
    }
   ],
   "source": [
    "heart_raw_df = pd.read_csv('heart_failure/heart_failure_clinical_records_dataset.csv')\n",
    "heart_raw_df.head()"
   ]
  },
  {
   "cell_type": "markdown",
   "metadata": {},
   "source": [
    "### Data Preparation and Cleaning"
   ]
  },
  {
   "cell_type": "markdown",
   "metadata": {},
   "source": [
    "Let us now prepare the data and clean it, to set it ready for further exploration. "
   ]
  },
  {
   "cell_type": "code",
   "execution_count": 12,
   "metadata": {
    "ExecuteTime": {
     "end_time": "2021-11-18T03:35:31.912750Z",
     "start_time": "2021-11-18T03:35:31.899750Z"
    }
   },
   "outputs": [
    {
     "name": "stdout",
     "output_type": "stream",
     "text": [
      "The heart failure dataset includes 13 clinical attributes of 299 patients\n"
     ]
    }
   ],
   "source": [
    "row, col = heart_raw_df.shape\n",
    "print(f\"The heart failure dataset includes {col} clinical attributes of {row} patients\")"
   ]
  },
  {
   "cell_type": "markdown",
   "metadata": {},
   "source": [
    "#### Attribute Information:\n",
    "\n",
    "This dataset has thirteen (13) clinical features and a brief description of them have been given below:\n",
    "\n",
    "- age: age of the patient (years)\n",
    "- anaemia: decrease of red blood cells or hemoglobin (boolean)\n",
    "- high blood pressure: if the patient has hypertension (boolean)\n",
    "- creatinine phosphokinase (CPK): level of the CPK enzyme in the blood (mcg/L)\n",
    "- diabetes: if the patient has diabetes (boolean)\n",
    "- ejection fraction: percentage of blood leaving the heart at each contraction (percentage)\n",
    "- platelets: platelets in the blood (kiloplatelets/mL)\n",
    "- sex: woman or man (binary)\n",
    "- serum creatinine: level of serum creatinine in the blood (mg/dL)\n",
    "- serum sodium: level of serum sodium in the blood (mEq/L)\n",
    "- smoking: if the patient smokes or not (boolean)\n",
    "- time: follow-up period (days)\n",
    "- [target] death event: if the patient deceased during the follow-up period (boolean)\n",
    "\n",
    "Let us understand the datatype of these attributes."
   ]
  },
  {
   "cell_type": "code",
   "execution_count": 13,
   "metadata": {
    "ExecuteTime": {
     "end_time": "2021-11-18T03:35:32.348053Z",
     "start_time": "2021-11-18T03:35:31.915751Z"
    },
    "scrolled": true
   },
   "outputs": [
    {
     "name": "stdout",
     "output_type": "stream",
     "text": [
      "<class 'pandas.core.frame.DataFrame'>\n",
      "RangeIndex: 299 entries, 0 to 298\n",
      "Data columns (total 13 columns):\n",
      " #   Column                    Non-Null Count  Dtype  \n",
      "---  ------                    --------------  -----  \n",
      " 0   age                       299 non-null    float64\n",
      " 1   anaemia                   299 non-null    int64  \n",
      " 2   creatinine_phosphokinase  299 non-null    int64  \n",
      " 3   diabetes                  299 non-null    int64  \n",
      " 4   ejection_fraction         299 non-null    int64  \n",
      " 5   high_blood_pressure       299 non-null    int64  \n",
      " 6   platelets                 299 non-null    float64\n",
      " 7   serum_creatinine          299 non-null    float64\n",
      " 8   serum_sodium              299 non-null    int64  \n",
      " 9   sex                       299 non-null    int64  \n",
      " 10  smoking                   299 non-null    int64  \n",
      " 11  time                      299 non-null    int64  \n",
      " 12  DEATH_EVENT               299 non-null    int64  \n",
      "dtypes: float64(3), int64(10)\n",
      "memory usage: 30.5 KB\n"
     ]
    }
   ],
   "source": [
    "heart_raw_df.info()"
   ]
  },
  {
   "cell_type": "markdown",
   "metadata": {},
   "source": [
    "#### Check for Missing values\n",
    "\n",
    "It is good to start by checking missing values and fixing it. Let us find out if this dataset has any missing values."
   ]
  },
  {
   "cell_type": "code",
   "execution_count": 14,
   "metadata": {
    "ExecuteTime": {
     "end_time": "2021-11-18T03:35:32.363054Z",
     "start_time": "2021-11-18T03:35:32.351053Z"
    },
    "scrolled": true
   },
   "outputs": [
    {
     "data": {
      "text/plain": [
       "age                         0\n",
       "anaemia                     0\n",
       "creatinine_phosphokinase    0\n",
       "diabetes                    0\n",
       "ejection_fraction           0\n",
       "high_blood_pressure         0\n",
       "platelets                   0\n",
       "serum_creatinine            0\n",
       "serum_sodium                0\n",
       "sex                         0\n",
       "smoking                     0\n",
       "time                        0\n",
       "DEATH_EVENT                 0\n",
       "dtype: int64"
      ]
     },
     "execution_count": 14,
     "metadata": {},
     "output_type": "execute_result"
    }
   ],
   "source": [
    "heart_raw_df.isnull().sum()"
   ]
  },
  {
   "cell_type": "markdown",
   "metadata": {
    "ExecuteTime": {
     "end_time": "2021-10-18T14:06:10.673040Z",
     "start_time": "2021-10-18T14:06:10.181934Z"
    }
   },
   "source": [
    "This dataset doesn't have any missing values. "
   ]
  },
  {
   "cell_type": "markdown",
   "metadata": {},
   "source": [
    "#### Check for unique values"
   ]
  },
  {
   "cell_type": "code",
   "execution_count": 15,
   "metadata": {
    "ExecuteTime": {
     "end_time": "2021-11-18T03:35:32.534154Z",
     "start_time": "2021-11-18T03:35:32.369054Z"
    },
    "scrolled": false
   },
   "outputs": [
    {
     "data": {
      "text/plain": [
       "age                          47\n",
       "anaemia                       2\n",
       "creatinine_phosphokinase    208\n",
       "diabetes                      2\n",
       "ejection_fraction            17\n",
       "high_blood_pressure           2\n",
       "platelets                   176\n",
       "serum_creatinine             40\n",
       "serum_sodium                 27\n",
       "sex                           2\n",
       "smoking                       2\n",
       "time                        148\n",
       "DEATH_EVENT                   2\n",
       "dtype: int64"
      ]
     },
     "execution_count": 15,
     "metadata": {},
     "output_type": "execute_result"
    }
   ],
   "source": [
    "heart_raw_df.nunique()"
   ]
  },
  {
   "cell_type": "markdown",
   "metadata": {},
   "source": [
    "Out of the thirteen variables the first twelve variables are predictor variables and the target variable is \"death event\". There are six categorical variables namely - anaemia, high blood pressure, diabetes, sex, smoking and death event. And there are seven continuous variables - age, creatinine phosphokinase, ejection fraction, platelets, serum creatinine, serum sodium and time."
   ]
  },
  {
   "cell_type": "markdown",
   "metadata": {},
   "source": [
    "#### Check for duplicate rows"
   ]
  },
  {
   "cell_type": "code",
   "execution_count": 16,
   "metadata": {
    "ExecuteTime": {
     "end_time": "2021-11-18T03:35:32.688737Z",
     "start_time": "2021-11-18T03:35:32.539154Z"
    },
    "scrolled": true
   },
   "outputs": [
    {
     "name": "stdout",
     "output_type": "stream",
     "text": [
      "There are no duplicate values in the dataset\n"
     ]
    }
   ],
   "source": [
    "duplicated = heart_raw_df.duplicated().sum()\n",
    "\n",
    "if duplicated:\n",
    "    print(f\"Duplicate rows in the dataset are {duplicated}\")\n",
    "else:\n",
    "    print(\"There are no duplicate values in the dataset\")"
   ]
  },
  {
   "cell_type": "markdown",
   "metadata": {},
   "source": [
    "#### Handling Incorrect data\n",
    "\n",
    "The age column has float as datatype. But age is generally an whole number. Let's check if it has any floating values and fix it. "
   ]
  },
  {
   "cell_type": "code",
   "execution_count": 17,
   "metadata": {
    "ExecuteTime": {
     "end_time": "2021-11-18T03:35:32.935625Z",
     "start_time": "2021-11-18T03:35:32.692737Z"
    },
    "scrolled": true
   },
   "outputs": [
    {
     "data": {
      "text/html": [
       "<div>\n",
       "<style scoped>\n",
       "    .dataframe tbody tr th:only-of-type {\n",
       "        vertical-align: middle;\n",
       "    }\n",
       "\n",
       "    .dataframe tbody tr th {\n",
       "        vertical-align: top;\n",
       "    }\n",
       "\n",
       "    .dataframe thead th {\n",
       "        text-align: right;\n",
       "    }\n",
       "</style>\n",
       "<table border=\"1\" class=\"dataframe\">\n",
       "  <thead>\n",
       "    <tr style=\"text-align: right;\">\n",
       "      <th></th>\n",
       "      <th>age</th>\n",
       "      <th>anaemia</th>\n",
       "      <th>creatinine_phosphokinase</th>\n",
       "      <th>diabetes</th>\n",
       "      <th>ejection_fraction</th>\n",
       "      <th>high_blood_pressure</th>\n",
       "      <th>platelets</th>\n",
       "      <th>serum_creatinine</th>\n",
       "      <th>serum_sodium</th>\n",
       "      <th>sex</th>\n",
       "      <th>smoking</th>\n",
       "      <th>time</th>\n",
       "      <th>DEATH_EVENT</th>\n",
       "    </tr>\n",
       "  </thead>\n",
       "  <tbody>\n",
       "    <tr>\n",
       "      <th>185</th>\n",
       "      <td>60.667</td>\n",
       "      <td>1</td>\n",
       "      <td>104</td>\n",
       "      <td>1</td>\n",
       "      <td>30</td>\n",
       "      <td>0</td>\n",
       "      <td>389000.0</td>\n",
       "      <td>1.5</td>\n",
       "      <td>136</td>\n",
       "      <td>1</td>\n",
       "      <td>0</td>\n",
       "      <td>171</td>\n",
       "      <td>1</td>\n",
       "    </tr>\n",
       "    <tr>\n",
       "      <th>188</th>\n",
       "      <td>60.667</td>\n",
       "      <td>1</td>\n",
       "      <td>151</td>\n",
       "      <td>1</td>\n",
       "      <td>40</td>\n",
       "      <td>1</td>\n",
       "      <td>201000.0</td>\n",
       "      <td>1.0</td>\n",
       "      <td>136</td>\n",
       "      <td>0</td>\n",
       "      <td>0</td>\n",
       "      <td>172</td>\n",
       "      <td>0</td>\n",
       "    </tr>\n",
       "  </tbody>\n",
       "</table>\n",
       "</div>"
      ],
      "text/plain": [
       "        age  anaemia  creatinine_phosphokinase  diabetes  ejection_fraction  \\\n",
       "185  60.667        1                       104         1                 30   \n",
       "188  60.667        1                       151         1                 40   \n",
       "\n",
       "     high_blood_pressure  platelets  serum_creatinine  serum_sodium  sex  \\\n",
       "185                    0   389000.0               1.5           136    1   \n",
       "188                    1   201000.0               1.0           136    0   \n",
       "\n",
       "     smoking  time  DEATH_EVENT  \n",
       "185        0   171            1  \n",
       "188        0   172            0  "
      ]
     },
     "execution_count": 17,
     "metadata": {},
     "output_type": "execute_result"
    }
   ],
   "source": [
    "heart_raw_df[~heart_raw_df['age'].apply(lambda x:x.is_integer())]"
   ]
  },
  {
   "cell_type": "markdown",
   "metadata": {},
   "source": [
    "Two values in age column have decimal values. Decimal value in age column doesn't make much sense. \n",
    "\n",
    "Since there are only two values we will try changing it directly."
   ]
  },
  {
   "cell_type": "code",
   "execution_count": 18,
   "metadata": {
    "ExecuteTime": {
     "end_time": "2021-11-18T03:35:33.571240Z",
     "start_time": "2021-11-18T03:35:32.939624Z"
    },
    "scrolled": true
   },
   "outputs": [
    {
     "data": {
      "text/html": [
       "<div>\n",
       "<style scoped>\n",
       "    .dataframe tbody tr th:only-of-type {\n",
       "        vertical-align: middle;\n",
       "    }\n",
       "\n",
       "    .dataframe tbody tr th {\n",
       "        vertical-align: top;\n",
       "    }\n",
       "\n",
       "    .dataframe thead th {\n",
       "        text-align: right;\n",
       "    }\n",
       "</style>\n",
       "<table border=\"1\" class=\"dataframe\">\n",
       "  <thead>\n",
       "    <tr style=\"text-align: right;\">\n",
       "      <th></th>\n",
       "      <th>age</th>\n",
       "      <th>anaemia</th>\n",
       "      <th>creatinine_phosphokinase</th>\n",
       "      <th>diabetes</th>\n",
       "      <th>ejection_fraction</th>\n",
       "      <th>high_blood_pressure</th>\n",
       "      <th>platelets</th>\n",
       "      <th>serum_creatinine</th>\n",
       "      <th>serum_sodium</th>\n",
       "      <th>sex</th>\n",
       "      <th>smoking</th>\n",
       "      <th>time</th>\n",
       "      <th>DEATH_EVENT</th>\n",
       "    </tr>\n",
       "  </thead>\n",
       "  <tbody>\n",
       "    <tr>\n",
       "      <th>184</th>\n",
       "      <td>58.0</td>\n",
       "      <td>1</td>\n",
       "      <td>145</td>\n",
       "      <td>0</td>\n",
       "      <td>25</td>\n",
       "      <td>0</td>\n",
       "      <td>219000.0</td>\n",
       "      <td>1.2</td>\n",
       "      <td>137</td>\n",
       "      <td>1</td>\n",
       "      <td>1</td>\n",
       "      <td>170</td>\n",
       "      <td>1</td>\n",
       "    </tr>\n",
       "    <tr>\n",
       "      <th>185</th>\n",
       "      <td>61.0</td>\n",
       "      <td>1</td>\n",
       "      <td>104</td>\n",
       "      <td>1</td>\n",
       "      <td>30</td>\n",
       "      <td>0</td>\n",
       "      <td>389000.0</td>\n",
       "      <td>1.5</td>\n",
       "      <td>136</td>\n",
       "      <td>1</td>\n",
       "      <td>0</td>\n",
       "      <td>171</td>\n",
       "      <td>1</td>\n",
       "    </tr>\n",
       "    <tr>\n",
       "      <th>186</th>\n",
       "      <td>50.0</td>\n",
       "      <td>0</td>\n",
       "      <td>582</td>\n",
       "      <td>0</td>\n",
       "      <td>50</td>\n",
       "      <td>0</td>\n",
       "      <td>153000.0</td>\n",
       "      <td>0.6</td>\n",
       "      <td>134</td>\n",
       "      <td>0</td>\n",
       "      <td>0</td>\n",
       "      <td>172</td>\n",
       "      <td>1</td>\n",
       "    </tr>\n",
       "    <tr>\n",
       "      <th>187</th>\n",
       "      <td>60.0</td>\n",
       "      <td>0</td>\n",
       "      <td>1896</td>\n",
       "      <td>1</td>\n",
       "      <td>25</td>\n",
       "      <td>0</td>\n",
       "      <td>365000.0</td>\n",
       "      <td>2.1</td>\n",
       "      <td>144</td>\n",
       "      <td>0</td>\n",
       "      <td>0</td>\n",
       "      <td>172</td>\n",
       "      <td>1</td>\n",
       "    </tr>\n",
       "    <tr>\n",
       "      <th>188</th>\n",
       "      <td>61.0</td>\n",
       "      <td>1</td>\n",
       "      <td>151</td>\n",
       "      <td>1</td>\n",
       "      <td>40</td>\n",
       "      <td>1</td>\n",
       "      <td>201000.0</td>\n",
       "      <td>1.0</td>\n",
       "      <td>136</td>\n",
       "      <td>0</td>\n",
       "      <td>0</td>\n",
       "      <td>172</td>\n",
       "      <td>0</td>\n",
       "    </tr>\n",
       "    <tr>\n",
       "      <th>189</th>\n",
       "      <td>40.0</td>\n",
       "      <td>0</td>\n",
       "      <td>244</td>\n",
       "      <td>0</td>\n",
       "      <td>45</td>\n",
       "      <td>1</td>\n",
       "      <td>275000.0</td>\n",
       "      <td>0.9</td>\n",
       "      <td>140</td>\n",
       "      <td>0</td>\n",
       "      <td>0</td>\n",
       "      <td>174</td>\n",
       "      <td>0</td>\n",
       "    </tr>\n",
       "  </tbody>\n",
       "</table>\n",
       "</div>"
      ],
      "text/plain": [
       "      age  anaemia  creatinine_phosphokinase  diabetes  ejection_fraction  \\\n",
       "184  58.0        1                       145         0                 25   \n",
       "185  61.0        1                       104         1                 30   \n",
       "186  50.0        0                       582         0                 50   \n",
       "187  60.0        0                      1896         1                 25   \n",
       "188  61.0        1                       151         1                 40   \n",
       "189  40.0        0                       244         0                 45   \n",
       "\n",
       "     high_blood_pressure  platelets  serum_creatinine  serum_sodium  sex  \\\n",
       "184                    0   219000.0               1.2           137    1   \n",
       "185                    0   389000.0               1.5           136    1   \n",
       "186                    0   153000.0               0.6           134    0   \n",
       "187                    0   365000.0               2.1           144    0   \n",
       "188                    1   201000.0               1.0           136    0   \n",
       "189                    1   275000.0               0.9           140    0   \n",
       "\n",
       "     smoking  time  DEATH_EVENT  \n",
       "184        1   170            1  \n",
       "185        0   171            1  \n",
       "186        0   172            1  \n",
       "187        0   172            1  \n",
       "188        0   172            0  \n",
       "189        0   174            0  "
      ]
     },
     "execution_count": 18,
     "metadata": {},
     "output_type": "execute_result"
    }
   ],
   "source": [
    "heart_raw_df.loc[(heart_raw_df.age == 60.667),'age'] = 61  \n",
    "\n",
    "heart_raw_df.loc[184:189]"
   ]
  },
  {
   "cell_type": "markdown",
   "metadata": {},
   "source": [
    "Incorrect data has been changed in the age column. Also the dataset has 13 attributes and all the columns seem essential right now. So we aren't droping any and the data is now finally set for exploration."
   ]
  },
  {
   "cell_type": "markdown",
   "metadata": {},
   "source": [
    "### Exploratory Analysis and Visualization"
   ]
  },
  {
   "cell_type": "code",
   "execution_count": 19,
   "metadata": {
    "ExecuteTime": {
     "end_time": "2021-11-18T03:35:33.602929Z",
     "start_time": "2021-11-18T03:35:33.574254Z"
    },
    "scrolled": true
   },
   "outputs": [
    {
     "data": {
      "text/html": [
       "<div>\n",
       "<style scoped>\n",
       "    .dataframe tbody tr th:only-of-type {\n",
       "        vertical-align: middle;\n",
       "    }\n",
       "\n",
       "    .dataframe tbody tr th {\n",
       "        vertical-align: top;\n",
       "    }\n",
       "\n",
       "    .dataframe thead th {\n",
       "        text-align: right;\n",
       "    }\n",
       "</style>\n",
       "<table border=\"1\" class=\"dataframe\">\n",
       "  <thead>\n",
       "    <tr style=\"text-align: right;\">\n",
       "      <th></th>\n",
       "      <th>age</th>\n",
       "      <th>anaemia</th>\n",
       "      <th>creatinine_phosphokinase</th>\n",
       "      <th>diabetes</th>\n",
       "      <th>ejection_fraction</th>\n",
       "      <th>high_blood_pressure</th>\n",
       "      <th>platelets</th>\n",
       "      <th>serum_creatinine</th>\n",
       "      <th>serum_sodium</th>\n",
       "      <th>sex</th>\n",
       "      <th>smoking</th>\n",
       "      <th>time</th>\n",
       "      <th>DEATH_EVENT</th>\n",
       "    </tr>\n",
       "  </thead>\n",
       "  <tbody>\n",
       "    <tr>\n",
       "      <th>0</th>\n",
       "      <td>75.0</td>\n",
       "      <td>0</td>\n",
       "      <td>582</td>\n",
       "      <td>0</td>\n",
       "      <td>20</td>\n",
       "      <td>1</td>\n",
       "      <td>265000.00</td>\n",
       "      <td>1.9</td>\n",
       "      <td>130</td>\n",
       "      <td>1</td>\n",
       "      <td>0</td>\n",
       "      <td>4</td>\n",
       "      <td>1</td>\n",
       "    </tr>\n",
       "    <tr>\n",
       "      <th>1</th>\n",
       "      <td>55.0</td>\n",
       "      <td>0</td>\n",
       "      <td>7861</td>\n",
       "      <td>0</td>\n",
       "      <td>38</td>\n",
       "      <td>0</td>\n",
       "      <td>263358.03</td>\n",
       "      <td>1.1</td>\n",
       "      <td>136</td>\n",
       "      <td>1</td>\n",
       "      <td>0</td>\n",
       "      <td>6</td>\n",
       "      <td>1</td>\n",
       "    </tr>\n",
       "    <tr>\n",
       "      <th>2</th>\n",
       "      <td>65.0</td>\n",
       "      <td>0</td>\n",
       "      <td>146</td>\n",
       "      <td>0</td>\n",
       "      <td>20</td>\n",
       "      <td>0</td>\n",
       "      <td>162000.00</td>\n",
       "      <td>1.3</td>\n",
       "      <td>129</td>\n",
       "      <td>1</td>\n",
       "      <td>1</td>\n",
       "      <td>7</td>\n",
       "      <td>1</td>\n",
       "    </tr>\n",
       "    <tr>\n",
       "      <th>3</th>\n",
       "      <td>50.0</td>\n",
       "      <td>1</td>\n",
       "      <td>111</td>\n",
       "      <td>0</td>\n",
       "      <td>20</td>\n",
       "      <td>0</td>\n",
       "      <td>210000.00</td>\n",
       "      <td>1.9</td>\n",
       "      <td>137</td>\n",
       "      <td>1</td>\n",
       "      <td>0</td>\n",
       "      <td>7</td>\n",
       "      <td>1</td>\n",
       "    </tr>\n",
       "    <tr>\n",
       "      <th>4</th>\n",
       "      <td>65.0</td>\n",
       "      <td>1</td>\n",
       "      <td>160</td>\n",
       "      <td>1</td>\n",
       "      <td>20</td>\n",
       "      <td>0</td>\n",
       "      <td>327000.00</td>\n",
       "      <td>2.7</td>\n",
       "      <td>116</td>\n",
       "      <td>0</td>\n",
       "      <td>0</td>\n",
       "      <td>8</td>\n",
       "      <td>1</td>\n",
       "    </tr>\n",
       "  </tbody>\n",
       "</table>\n",
       "</div>"
      ],
      "text/plain": [
       "    age  anaemia  creatinine_phosphokinase  diabetes  ejection_fraction  \\\n",
       "0  75.0        0                       582         0                 20   \n",
       "1  55.0        0                      7861         0                 38   \n",
       "2  65.0        0                       146         0                 20   \n",
       "3  50.0        1                       111         0                 20   \n",
       "4  65.0        1                       160         1                 20   \n",
       "\n",
       "   high_blood_pressure  platelets  serum_creatinine  serum_sodium  sex  \\\n",
       "0                    1  265000.00               1.9           130    1   \n",
       "1                    0  263358.03               1.1           136    1   \n",
       "2                    0  162000.00               1.3           129    1   \n",
       "3                    0  210000.00               1.9           137    1   \n",
       "4                    0  327000.00               2.7           116    0   \n",
       "\n",
       "   smoking  time  DEATH_EVENT  \n",
       "0        0     4            1  \n",
       "1        0     6            1  \n",
       "2        1     7            1  \n",
       "3        0     7            1  \n",
       "4        0     8            1  "
      ]
     },
     "execution_count": 19,
     "metadata": {},
     "output_type": "execute_result"
    }
   ],
   "source": [
    "heart_raw_df.head()"
   ]
  },
  {
   "cell_type": "markdown",
   "metadata": {},
   "source": [
    "Let us dig deep into these attributes and find its  count, mean, std(standard deviation), range, min , max , etc..."
   ]
  },
  {
   "cell_type": "markdown",
   "metadata": {},
   "source": [
    "#### Statistics Summary"
   ]
  },
  {
   "cell_type": "code",
   "execution_count": 20,
   "metadata": {
    "ExecuteTime": {
     "end_time": "2021-11-18T03:35:33.791491Z",
     "start_time": "2021-11-18T03:35:33.606929Z"
    }
   },
   "outputs": [
    {
     "data": {
      "text/html": [
       "<div>\n",
       "<style scoped>\n",
       "    .dataframe tbody tr th:only-of-type {\n",
       "        vertical-align: middle;\n",
       "    }\n",
       "\n",
       "    .dataframe tbody tr th {\n",
       "        vertical-align: top;\n",
       "    }\n",
       "\n",
       "    .dataframe thead th {\n",
       "        text-align: right;\n",
       "    }\n",
       "</style>\n",
       "<table border=\"1\" class=\"dataframe\">\n",
       "  <thead>\n",
       "    <tr style=\"text-align: right;\">\n",
       "      <th></th>\n",
       "      <th>age</th>\n",
       "      <th>anaemia</th>\n",
       "      <th>creatinine_phosphokinase</th>\n",
       "      <th>diabetes</th>\n",
       "      <th>ejection_fraction</th>\n",
       "      <th>high_blood_pressure</th>\n",
       "      <th>platelets</th>\n",
       "      <th>serum_creatinine</th>\n",
       "      <th>serum_sodium</th>\n",
       "      <th>sex</th>\n",
       "      <th>smoking</th>\n",
       "      <th>time</th>\n",
       "      <th>DEATH_EVENT</th>\n",
       "    </tr>\n",
       "  </thead>\n",
       "  <tbody>\n",
       "    <tr>\n",
       "      <th>count</th>\n",
       "      <td>299.000000</td>\n",
       "      <td>299.000000</td>\n",
       "      <td>299.000000</td>\n",
       "      <td>299.000000</td>\n",
       "      <td>299.000000</td>\n",
       "      <td>299.000000</td>\n",
       "      <td>299.000000</td>\n",
       "      <td>299.00000</td>\n",
       "      <td>299.000000</td>\n",
       "      <td>299.000000</td>\n",
       "      <td>299.00000</td>\n",
       "      <td>299.000000</td>\n",
       "      <td>299.00000</td>\n",
       "    </tr>\n",
       "    <tr>\n",
       "      <th>mean</th>\n",
       "      <td>60.836120</td>\n",
       "      <td>0.431438</td>\n",
       "      <td>581.839465</td>\n",
       "      <td>0.418060</td>\n",
       "      <td>38.083612</td>\n",
       "      <td>0.351171</td>\n",
       "      <td>263358.029264</td>\n",
       "      <td>1.39388</td>\n",
       "      <td>136.625418</td>\n",
       "      <td>0.648829</td>\n",
       "      <td>0.32107</td>\n",
       "      <td>130.260870</td>\n",
       "      <td>0.32107</td>\n",
       "    </tr>\n",
       "    <tr>\n",
       "      <th>std</th>\n",
       "      <td>11.894809</td>\n",
       "      <td>0.496107</td>\n",
       "      <td>970.287881</td>\n",
       "      <td>0.494067</td>\n",
       "      <td>11.834841</td>\n",
       "      <td>0.478136</td>\n",
       "      <td>97804.236869</td>\n",
       "      <td>1.03451</td>\n",
       "      <td>4.412477</td>\n",
       "      <td>0.478136</td>\n",
       "      <td>0.46767</td>\n",
       "      <td>77.614208</td>\n",
       "      <td>0.46767</td>\n",
       "    </tr>\n",
       "    <tr>\n",
       "      <th>min</th>\n",
       "      <td>40.000000</td>\n",
       "      <td>0.000000</td>\n",
       "      <td>23.000000</td>\n",
       "      <td>0.000000</td>\n",
       "      <td>14.000000</td>\n",
       "      <td>0.000000</td>\n",
       "      <td>25100.000000</td>\n",
       "      <td>0.50000</td>\n",
       "      <td>113.000000</td>\n",
       "      <td>0.000000</td>\n",
       "      <td>0.00000</td>\n",
       "      <td>4.000000</td>\n",
       "      <td>0.00000</td>\n",
       "    </tr>\n",
       "    <tr>\n",
       "      <th>25%</th>\n",
       "      <td>51.000000</td>\n",
       "      <td>0.000000</td>\n",
       "      <td>116.500000</td>\n",
       "      <td>0.000000</td>\n",
       "      <td>30.000000</td>\n",
       "      <td>0.000000</td>\n",
       "      <td>212500.000000</td>\n",
       "      <td>0.90000</td>\n",
       "      <td>134.000000</td>\n",
       "      <td>0.000000</td>\n",
       "      <td>0.00000</td>\n",
       "      <td>73.000000</td>\n",
       "      <td>0.00000</td>\n",
       "    </tr>\n",
       "    <tr>\n",
       "      <th>50%</th>\n",
       "      <td>60.000000</td>\n",
       "      <td>0.000000</td>\n",
       "      <td>250.000000</td>\n",
       "      <td>0.000000</td>\n",
       "      <td>38.000000</td>\n",
       "      <td>0.000000</td>\n",
       "      <td>262000.000000</td>\n",
       "      <td>1.10000</td>\n",
       "      <td>137.000000</td>\n",
       "      <td>1.000000</td>\n",
       "      <td>0.00000</td>\n",
       "      <td>115.000000</td>\n",
       "      <td>0.00000</td>\n",
       "    </tr>\n",
       "    <tr>\n",
       "      <th>75%</th>\n",
       "      <td>70.000000</td>\n",
       "      <td>1.000000</td>\n",
       "      <td>582.000000</td>\n",
       "      <td>1.000000</td>\n",
       "      <td>45.000000</td>\n",
       "      <td>1.000000</td>\n",
       "      <td>303500.000000</td>\n",
       "      <td>1.40000</td>\n",
       "      <td>140.000000</td>\n",
       "      <td>1.000000</td>\n",
       "      <td>1.00000</td>\n",
       "      <td>203.000000</td>\n",
       "      <td>1.00000</td>\n",
       "    </tr>\n",
       "    <tr>\n",
       "      <th>max</th>\n",
       "      <td>95.000000</td>\n",
       "      <td>1.000000</td>\n",
       "      <td>7861.000000</td>\n",
       "      <td>1.000000</td>\n",
       "      <td>80.000000</td>\n",
       "      <td>1.000000</td>\n",
       "      <td>850000.000000</td>\n",
       "      <td>9.40000</td>\n",
       "      <td>148.000000</td>\n",
       "      <td>1.000000</td>\n",
       "      <td>1.00000</td>\n",
       "      <td>285.000000</td>\n",
       "      <td>1.00000</td>\n",
       "    </tr>\n",
       "  </tbody>\n",
       "</table>\n",
       "</div>"
      ],
      "text/plain": [
       "              age     anaemia  creatinine_phosphokinase    diabetes  \\\n",
       "count  299.000000  299.000000                299.000000  299.000000   \n",
       "mean    60.836120    0.431438                581.839465    0.418060   \n",
       "std     11.894809    0.496107                970.287881    0.494067   \n",
       "min     40.000000    0.000000                 23.000000    0.000000   \n",
       "25%     51.000000    0.000000                116.500000    0.000000   \n",
       "50%     60.000000    0.000000                250.000000    0.000000   \n",
       "75%     70.000000    1.000000                582.000000    1.000000   \n",
       "max     95.000000    1.000000               7861.000000    1.000000   \n",
       "\n",
       "       ejection_fraction  high_blood_pressure      platelets  \\\n",
       "count         299.000000           299.000000     299.000000   \n",
       "mean           38.083612             0.351171  263358.029264   \n",
       "std            11.834841             0.478136   97804.236869   \n",
       "min            14.000000             0.000000   25100.000000   \n",
       "25%            30.000000             0.000000  212500.000000   \n",
       "50%            38.000000             0.000000  262000.000000   \n",
       "75%            45.000000             1.000000  303500.000000   \n",
       "max            80.000000             1.000000  850000.000000   \n",
       "\n",
       "       serum_creatinine  serum_sodium         sex    smoking        time  \\\n",
       "count         299.00000    299.000000  299.000000  299.00000  299.000000   \n",
       "mean            1.39388    136.625418    0.648829    0.32107  130.260870   \n",
       "std             1.03451      4.412477    0.478136    0.46767   77.614208   \n",
       "min             0.50000    113.000000    0.000000    0.00000    4.000000   \n",
       "25%             0.90000    134.000000    0.000000    0.00000   73.000000   \n",
       "50%             1.10000    137.000000    1.000000    0.00000  115.000000   \n",
       "75%             1.40000    140.000000    1.000000    1.00000  203.000000   \n",
       "max             9.40000    148.000000    1.000000    1.00000  285.000000   \n",
       "\n",
       "       DEATH_EVENT  \n",
       "count    299.00000  \n",
       "mean       0.32107  \n",
       "std        0.46767  \n",
       "min        0.00000  \n",
       "25%        0.00000  \n",
       "50%        0.00000  \n",
       "75%        1.00000  \n",
       "max        1.00000  "
      ]
     },
     "execution_count": 20,
     "metadata": {},
     "output_type": "execute_result"
    }
   ],
   "source": [
    "heart_raw_df.describe()"
   ]
  },
  {
   "cell_type": "markdown",
   "metadata": {},
   "source": [
    "### I. Gender and its impact"
   ]
  },
  {
   "cell_type": "markdown",
   "metadata": {},
   "source": [
    "This dataset includes both male and female patients. To begin with let us understand the number of men and women patients. Also let's check out if it has an impact on the heart disease."
   ]
  },
  {
   "cell_type": "code",
   "execution_count": 21,
   "metadata": {
    "ExecuteTime": {
     "end_time": "2021-11-18T03:35:33.916773Z",
     "start_time": "2021-11-18T03:35:33.794491Z"
    },
    "scrolled": true
   },
   "outputs": [
    {
     "data": {
      "text/html": [
       "<div>\n",
       "<style scoped>\n",
       "    .dataframe tbody tr th:only-of-type {\n",
       "        vertical-align: middle;\n",
       "    }\n",
       "\n",
       "    .dataframe tbody tr th {\n",
       "        vertical-align: top;\n",
       "    }\n",
       "\n",
       "    .dataframe thead th {\n",
       "        text-align: right;\n",
       "    }\n",
       "</style>\n",
       "<table border=\"1\" class=\"dataframe\">\n",
       "  <thead>\n",
       "    <tr style=\"text-align: right;\">\n",
       "      <th></th>\n",
       "      <th>Patient_Count</th>\n",
       "    </tr>\n",
       "  </thead>\n",
       "  <tbody>\n",
       "    <tr>\n",
       "      <th>Men</th>\n",
       "      <td>194</td>\n",
       "    </tr>\n",
       "    <tr>\n",
       "      <th>Women</th>\n",
       "      <td>105</td>\n",
       "    </tr>\n",
       "  </tbody>\n",
       "</table>\n",
       "</div>"
      ],
      "text/plain": [
       "       Patient_Count\n",
       "Men              194\n",
       "Women            105"
      ]
     },
     "execution_count": 21,
     "metadata": {},
     "output_type": "execute_result"
    }
   ],
   "source": [
    "gender_df=heart_raw_df['sex'].value_counts().to_frame()\n",
    "gender_df.rename(columns = {'sex': 'Patient_Count'}, inplace = True)\n",
    "gender_df.rename(index={0: 'Women', 1: 'Men'},inplace=True)\n",
    "gender_df"
   ]
  },
  {
   "cell_type": "markdown",
   "metadata": {},
   "source": [
    "We have 299 records of which 105 are women and 194 are men. So nearly two thirds of the data has been collected from men and the remaining one third from women. Let us find out if gender has an impact on the heart failure."
   ]
  },
  {
   "cell_type": "code",
   "execution_count": 22,
   "metadata": {
    "ExecuteTime": {
     "end_time": "2021-11-18T03:35:34.436019Z",
     "start_time": "2021-11-18T03:35:33.922773Z"
    }
   },
   "outputs": [
    {
     "data": {
      "text/html": [
       "<div>\n",
       "<style scoped>\n",
       "    .dataframe tbody tr th:only-of-type {\n",
       "        vertical-align: middle;\n",
       "    }\n",
       "\n",
       "    .dataframe tbody tr th {\n",
       "        vertical-align: top;\n",
       "    }\n",
       "\n",
       "    .dataframe thead th {\n",
       "        text-align: right;\n",
       "    }\n",
       "</style>\n",
       "<table border=\"1\" class=\"dataframe\">\n",
       "  <thead>\n",
       "    <tr style=\"text-align: right;\">\n",
       "      <th>Patient_State</th>\n",
       "      <th>Alive</th>\n",
       "      <th>Deceased</th>\n",
       "    </tr>\n",
       "    <tr>\n",
       "      <th>Gender</th>\n",
       "      <th></th>\n",
       "      <th></th>\n",
       "    </tr>\n",
       "  </thead>\n",
       "  <tbody>\n",
       "    <tr>\n",
       "      <th>Men</th>\n",
       "      <td>68.04</td>\n",
       "      <td>31.96</td>\n",
       "    </tr>\n",
       "    <tr>\n",
       "      <th>Women</th>\n",
       "      <td>67.62</td>\n",
       "      <td>32.38</td>\n",
       "    </tr>\n",
       "  </tbody>\n",
       "</table>\n",
       "</div>"
      ],
      "text/plain": [
       "Patient_State  Alive  Deceased\n",
       "Gender                        \n",
       "Men            68.04     31.96\n",
       "Women          67.62     32.38"
      ]
     },
     "execution_count": 22,
     "metadata": {},
     "output_type": "execute_result"
    }
   ],
   "source": [
    "# Calculating percentage of people dead/alive in each gender group \n",
    "gender_grp_df=heart_raw_df.groupby(['sex','DEATH_EVENT']).size().groupby(level=0).apply(lambda x: 100*x/x.sum())\n",
    "gender_grp_df=gender_grp_df.to_frame().reset_index()\n",
    "\n",
    "gender_grp_df.rename(columns = {'sex':'Gender','DEATH_EVENT':'Patient_State',0: 'Percentage %'}, inplace = True)\n",
    "gender_grp_df['Percentage %']= round(gender_grp_df['Percentage %'],2)  #Round of percentage to 2\n",
    "\n",
    "gender_grp_df[\"Gender\"].replace({0: 'Women', 1: 'Men'}, inplace=True)   #Replace boolean values to meaningful ones \n",
    "gender_grp_df[\"Patient_State\"].replace({0: 'Alive', 1: 'Deceased'}, inplace=True)\n",
    "\n",
    "#Using pivot table to present it in more presentable format\n",
    "gender_grp_df_op = pd.pivot_table(data=gender_grp_df, index=['Gender'], columns=['Patient_State'], values='Percentage %')\n",
    "gender_grp_df_op"
   ]
  },
  {
   "cell_type": "markdown",
   "metadata": {},
   "source": [
    "There is a slight difference betweeen men and women. The table clearly shows that 68.04% of men are alive and 67.62% of women are alive. Likewise 31.96% of the men are deceased and 32.38% of women are deceased. "
   ]
  },
  {
   "cell_type": "markdown",
   "metadata": {},
   "source": [
    "### II. Age of patients"
   ]
  },
  {
   "cell_type": "code",
   "execution_count": 23,
   "metadata": {
    "ExecuteTime": {
     "end_time": "2021-11-18T03:35:35.607616Z",
     "start_time": "2021-11-18T03:35:34.442020Z"
    },
    "scrolled": true
   },
   "outputs": [
    {
     "data": {
      "image/png": "[encoded data removed]",
      "text/plain": [
       "<Figure size 432x288 with 1 Axes>"
      ]
     },
     "metadata": {},
     "output_type": "display_data"
    }
   ],
   "source": [
    "import numpy as np\n",
    "sns.set_theme(style=\"darkgrid\")\n",
    "ax = sns.histplot(x=\"age\", data=heart_raw_df, bins=np.arange(40, 100, 5))\n",
    "ax.set_title('Age of the patients');"
   ]
  },
  {
   "cell_type": "markdown",
   "metadata": {},
   "source": [
    "The age of the patients range from 40 yrs to 90 yrs out of which patients in the age group of 50 to 70 yrs seem more.  "
   ]
  },
  {
   "cell_type": "code",
   "execution_count": 24,
   "metadata": {
    "ExecuteTime": {
     "end_time": "2021-11-18T03:35:35.715611Z",
     "start_time": "2021-11-18T03:35:35.609615Z"
    },
    "scrolled": true
   },
   "outputs": [
    {
     "name": "stdout",
     "output_type": "stream",
     "text": [
      "\n",
      "\n",
      "\u001b[1mPatients in each age range (Max to min)\u001b[0m\n"
     ]
    },
    {
     "data": {
      "text/html": [
       "<div>\n",
       "<style scoped>\n",
       "    .dataframe tbody tr th:only-of-type {\n",
       "        vertical-align: middle;\n",
       "    }\n",
       "\n",
       "    .dataframe tbody tr th {\n",
       "        vertical-align: top;\n",
       "    }\n",
       "\n",
       "    .dataframe thead th {\n",
       "        text-align: right;\n",
       "    }\n",
       "</style>\n",
       "<table border=\"1\" class=\"dataframe\">\n",
       "  <thead>\n",
       "    <tr style=\"text-align: right;\">\n",
       "      <th></th>\n",
       "      <th>age_range(from,to)</th>\n",
       "      <th>patient_count</th>\n",
       "    </tr>\n",
       "  </thead>\n",
       "  <tbody>\n",
       "    <tr>\n",
       "      <th>0</th>\n",
       "      <td>(50.0, 60.0]</td>\n",
       "      <td>88</td>\n",
       "    </tr>\n",
       "    <tr>\n",
       "      <th>1</th>\n",
       "      <td>(60.0, 70.0]</td>\n",
       "      <td>85</td>\n",
       "    </tr>\n",
       "    <tr>\n",
       "      <th>2</th>\n",
       "      <td>(39.999, 50.0]</td>\n",
       "      <td>74</td>\n",
       "    </tr>\n",
       "    <tr>\n",
       "      <th>3</th>\n",
       "      <td>(70.0, 80.0]</td>\n",
       "      <td>34</td>\n",
       "    </tr>\n",
       "    <tr>\n",
       "      <th>4</th>\n",
       "      <td>(80.0, 90.0]</td>\n",
       "      <td>15</td>\n",
       "    </tr>\n",
       "  </tbody>\n",
       "</table>\n",
       "</div>"
      ],
      "text/plain": [
       "  age_range(from,to)  patient_count\n",
       "0       (50.0, 60.0]             88\n",
       "1       (60.0, 70.0]             85\n",
       "2     (39.999, 50.0]             74\n",
       "3       (70.0, 80.0]             34\n",
       "4       (80.0, 90.0]             15"
      ]
     },
     "execution_count": 24,
     "metadata": {},
     "output_type": "execute_result"
    }
   ],
   "source": [
    "# Printing values in each age range bin\n",
    "\n",
    "age_range=heart_raw_df['age'].value_counts(bins=np.arange(40, 100, 10)).to_frame().reset_index()\n",
    "age_range.rename(columns = {'index':\"age_range(from,to)\",'age':'patient_count'}, inplace = True)\n",
    "age_range.set_index('age_range(from,to)')\n",
    "\n",
    "print(\"\\n\")\n",
    "print(\"\\033[1m\" +\"Patients in each age range (Max to min)\"+ \"\\033[0m\") # to print in bold\n",
    "age_range"
   ]
  },
  {
   "cell_type": "markdown",
   "metadata": {},
   "source": [
    "The table that has been provided gives the number of patients who are in each age range. It also displays the highest bin value on the top and moves down to the lowest.\n",
    "* There are 88 patients in the age range of 50 - 60 yrs\n",
    "* There are 85 patients in the age range of 60 - 70 yrs\n",
    "\n",
    "\n",
    "* There are 74 patients in the age range of 40 - 50 yrs\n",
    "* There are 34 patients in the age range of 70 - 80 yrs\n",
    "* There are 15 patients in the age range of 80 - 90 yrs\n",
    "\n",
    "So there are more patients in the age ranges of 50 - 70 yrs compared to other ones."
   ]
  },
  {
   "cell_type": "markdown",
   "metadata": {},
   "source": [
    "### III. Patient Status "
   ]
  },
  {
   "cell_type": "code",
   "execution_count": 25,
   "metadata": {
    "ExecuteTime": {
     "end_time": "2021-11-18T03:35:36.174546Z",
     "start_time": "2021-11-18T03:35:35.719610Z"
    },
    "scrolled": false
   },
   "outputs": [
    {
     "data": {
      "image/png": "[encoded data removed]",
      "text/plain": [
       "<Figure size 432x288 with 1 Axes>"
      ]
     },
     "metadata": {},
     "output_type": "display_data"
    }
   ],
   "source": [
    "sns.set_style(\"white\")\n",
    "ax = sns.countplot(y=\"DEATH_EVENT\", data=heart_raw_df, orient='h', palette='Paired')\n",
    "ax.set_title('Patient Status')\n",
    "ax.set_yticklabels(['Alive', 'Deceased']);"
   ]
  },
  {
   "cell_type": "code",
   "execution_count": 26,
   "metadata": {
    "ExecuteTime": {
     "end_time": "2021-11-18T03:35:36.206085Z",
     "start_time": "2021-11-18T03:35:36.178545Z"
    }
   },
   "outputs": [
    {
     "name": "stdout",
     "output_type": "stream",
     "text": [
      "\n",
      "\n",
      "\u001b[1mNumber of patients who are alive/dead\u001b[0m\n"
     ]
    },
    {
     "data": {
      "text/html": [
       "<div>\n",
       "<style scoped>\n",
       "    .dataframe tbody tr th:only-of-type {\n",
       "        vertical-align: middle;\n",
       "    }\n",
       "\n",
       "    .dataframe tbody tr th {\n",
       "        vertical-align: top;\n",
       "    }\n",
       "\n",
       "    .dataframe thead th {\n",
       "        text-align: right;\n",
       "    }\n",
       "</style>\n",
       "<table border=\"1\" class=\"dataframe\">\n",
       "  <thead>\n",
       "    <tr style=\"text-align: right;\">\n",
       "      <th></th>\n",
       "      <th>Patient_Count</th>\n",
       "    </tr>\n",
       "  </thead>\n",
       "  <tbody>\n",
       "    <tr>\n",
       "      <th>Alive</th>\n",
       "      <td>203</td>\n",
       "    </tr>\n",
       "    <tr>\n",
       "      <th>Deceased</th>\n",
       "      <td>96</td>\n",
       "    </tr>\n",
       "  </tbody>\n",
       "</table>\n",
       "</div>"
      ],
      "text/plain": [
       "          Patient_Count\n",
       "Alive               203\n",
       "Deceased             96"
      ]
     },
     "execution_count": 26,
     "metadata": {},
     "output_type": "execute_result"
    }
   ],
   "source": [
    "DEATH_EVENT_df=heart_raw_df['DEATH_EVENT'].value_counts().to_frame()\n",
    "DEATH_EVENT_df.rename(columns = {'DEATH_EVENT': 'Patient_Count'}, inplace = True)\n",
    "DEATH_EVENT_df.rename(index={0: 'Alive', 1: 'Deceased'},inplace=True)\n",
    "\n",
    "print(\"\\n\")\n",
    "print(\"\\033[1m\" +\"Number of patients who are alive/dead\"+ \"\\033[0m\") # to print in bold\n",
    "DEATH_EVENT_df"
   ]
  },
  {
   "cell_type": "markdown",
   "metadata": {},
   "source": [
    "We have 299 records of which there are approximately 203 are alive and 96 are deceased. About 75% of the patients whose data have been collected are alive and only 25% are deceased. "
   ]
  },
  {
   "cell_type": "markdown",
   "metadata": {},
   "source": [
    "### IV. Distribution of the continuous variables"
   ]
  },
  {
   "cell_type": "code",
   "execution_count": 27,
   "metadata": {
    "ExecuteTime": {
     "end_time": "2021-11-18T03:35:39.498860Z",
     "start_time": "2021-11-18T03:35:36.210086Z"
    }
   },
   "outputs": [
    {
     "data": {
      "image/png": "[encoded data removed]",
      "text/plain": [
       "<Figure size 1152x576 with 6 Axes>"
      ]
     },
     "metadata": {},
     "output_type": "display_data"
    }
   ],
   "source": [
    "%matplotlib inline\n",
    "\n",
    "sns.set_theme(style=\"darkgrid\")\n",
    "\n",
    "fig, axes = plt.subplots(2, 3, figsize=(16, 8))\n",
    "\n",
    "axes[0,0].set_title('age')\n",
    "# axes[0,0].hist([heart_raw_df.age], \n",
    "#          bins=np.arange(40, 100, 10))\n",
    "sns.histplot(data=heart_raw_df, x=\"age\", kde=True,ax= axes[0,0])\n",
    "\n",
    "axes[0,1].set_title('Distribution of creatinine_phosphokinase')\n",
    "sns.boxplot(x=heart_raw_df[\"creatinine_phosphokinase\"], data=heart_raw_df, orient=\"h\",ax= axes[0,1], palette=\"Set3\")\n",
    "\n",
    "\n",
    "axes[0,2].set_title('Distribution of  ejection_fraction')\n",
    "sns.histplot(data=heart_raw_df, x=\"ejection_fraction\",ax= axes[0,2], element=\"poly\")\n",
    "\n",
    "\n",
    "axes[1,0].set_title('Distribution of platelets')\n",
    "sns.violinplot(y=heart_raw_df['platelets'], ax= axes[1,0], palette=\"Set2\")\n",
    "\n",
    "axes[1,1].set_title('Distribution of serum_sodium')\n",
    "sns.boxenplot(x=heart_raw_df['serum_sodium'],data=heart_raw_df, ax= axes[1,1])\n",
    "\n",
    "axes[1,2].set_title('Distribution of serum_creatinine')\n",
    "axes[1,2]=  sns.stripplot(y=\"serum_creatinine\",data=heart_raw_df, palette=\"Set1\")\n",
    "\n",
    "plt.tight_layout(pad=2);"
   ]
  },
  {
   "cell_type": "markdown",
   "metadata": {},
   "source": [
    "## Asking and Answering Questions"
   ]
  },
  {
   "cell_type": "markdown",
   "metadata": {},
   "source": [
    "We've already gained several insights about the respondents by exploring individual columns of the dataset. Let's ask some specific questions and try to answer them using data frame operations and visualizations."
   ]
  },
  {
   "cell_type": "markdown",
   "metadata": {
    "ExecuteTime": {
     "end_time": "2021-10-21T04:28:49.601767Z",
     "start_time": "2021-10-21T04:28:41.230140Z"
    }
   },
   "source": [
    "### Q: What percentage of the anaemic patients have heart failure?"
   ]
  },
  {
   "cell_type": "code",
   "execution_count": 28,
   "metadata": {
    "ExecuteTime": {
     "end_time": "2021-11-18T03:35:40.707318Z",
     "start_time": "2021-11-18T03:35:39.502860Z"
    }
   },
   "outputs": [
    {
     "data": {
      "image/png": "[encoded data removed]",
      "text/plain": [
       "<Figure size 432x288 with 1 Axes>"
      ]
     },
     "metadata": {},
     "output_type": "display_data"
    }
   ],
   "source": [
    "agg_df= heart_raw_df.groupby(['anaemia','DEATH_EVENT']).size().reset_index()  #Grouping both anaemia and death_event\n",
    "anaemia_agg = agg_df.groupby('anaemia').agg({0: lambda x:list(x)}) #Making a list of both anaemic states \n",
    "\n",
    "# Finding sum of list of each anaemic state\n",
    "sum_list = []\n",
    "for i in range(len(anaemia_agg[0])):\n",
    "    sum_list.append(sum(anaemia_agg[0][i]))\n",
    "    sum_list.append(sum(anaemia_agg[0][i]))\n",
    "agg_df['sum']=sum_list\n",
    "\n",
    "# Finding percentage list the agg_df\n",
    "percentage_list = []\n",
    "for i in range(len(agg_df[0])):\n",
    "    answer = agg_df[0][i]*100/agg_df['sum'][i]\n",
    "    answer = round(answer, 2)\n",
    "    percentage_list.append(answer)\n",
    "agg_df['percentage']=percentage_list\n",
    "\n",
    "#Forming pivot table for plotting\n",
    "df_plot = heart_raw_df.groupby(['anaemia','DEATH_EVENT']).size().reset_index().pivot(columns='DEATH_EVENT', index='anaemia', values=0)\n",
    "\n",
    "#Plotting the stacked bar graph \n",
    "ax= df_plot.plot(kind='bar', stacked=True, xlabel =('Condition of the patient'),ylabel=('Count'),colormap='Set2')\n",
    "ax.set_xticklabels(['Not Anaemic', 'Anaemic'], rotation=45);\n",
    "ax.legend(title='Patient State', labels=['Alive','Deceased' ])\n",
    "\n",
    "#Adding percentage to the stacked bar graph \n",
    "for i,rec in enumerate(ax.patches):\n",
    "    for i in range(len(agg_df[0])):\n",
    "        if rec.get_height() == agg_df[0][i]:\n",
    "            ax.text(rec.get_xy()[0]+rec.get_width()/2,rec.get_xy()[1]+rec.get_height()/2,\n",
    "                '{:.2%}'.format(agg_df['percentage'][i]/100), fontsize=12, color='black')\n",
    "            break;"
   ]
  },
  {
   "cell_type": "markdown",
   "metadata": {
    "ExecuteTime": {
     "end_time": "2021-10-29T05:29:22.432822Z",
     "start_time": "2021-10-29T05:29:22.172194Z"
    }
   },
   "source": [
    "Among the non anaemic patients 70.59% are alive while 29.41% are deceased. Likewise among the anaemic patients 64.34% are alive while 35.66% are deceased. When we compare anaemic patients with the non anaemic ones , patients who are non anaemic clearly have more survival rates than the anaemic ones.  \n",
    "\n",
    "This shows that anaemia does influence heart disease."
   ]
  },
  {
   "cell_type": "markdown",
   "metadata": {},
   "source": [
    "### Q: Does serum sodium level affect the heart and cause heart failure?"
   ]
  },
  {
   "cell_type": "markdown",
   "metadata": {},
   "source": [
    "Serum sodium is nothing but the amount of sodium in our blood. Generally low serum sodium level (serum sodium concentration of <135 mEq/L ) or hyponatremia is one of the most common biochemical feature in heart failure patients, with a prevalence close to 25%. Let's find out if our data agrees to this medical phenomenon."
   ]
  },
  {
   "cell_type": "code",
   "execution_count": 29,
   "metadata": {
    "ExecuteTime": {
     "end_time": "2021-11-18T03:35:40.926493Z",
     "start_time": "2021-11-18T03:35:40.711318Z"
    }
   },
   "outputs": [
    {
     "name": "stdout",
     "output_type": "stream",
     "text": [
      "\n",
      "\n",
      "\u001b[1mNumber of patients who are alive/dead in each serium sodium range \u001b[0m\n"
     ]
    },
    {
     "data": {
      "text/html": [
       "<div>\n",
       "<style scoped>\n",
       "    .dataframe tbody tr th:only-of-type {\n",
       "        vertical-align: middle;\n",
       "    }\n",
       "\n",
       "    .dataframe tbody tr th {\n",
       "        vertical-align: top;\n",
       "    }\n",
       "\n",
       "    .dataframe thead th {\n",
       "        text-align: right;\n",
       "    }\n",
       "</style>\n",
       "<table border=\"1\" class=\"dataframe\">\n",
       "  <thead>\n",
       "    <tr style=\"text-align: right;\">\n",
       "      <th>Patient_State</th>\n",
       "      <th>Alive</th>\n",
       "      <th>Deceased</th>\n",
       "    </tr>\n",
       "    <tr>\n",
       "      <th>Serum_sodium_level</th>\n",
       "      <th></th>\n",
       "      <th></th>\n",
       "    </tr>\n",
       "  </thead>\n",
       "  <tbody>\n",
       "    <tr>\n",
       "      <th>(110, 130]</th>\n",
       "      <td>10</td>\n",
       "      <td>12</td>\n",
       "    </tr>\n",
       "    <tr>\n",
       "      <th>(130, 135]</th>\n",
       "      <td>41</td>\n",
       "      <td>36</td>\n",
       "    </tr>\n",
       "    <tr>\n",
       "      <th>(135, 140]</th>\n",
       "      <td>121</td>\n",
       "      <td>37</td>\n",
       "    </tr>\n",
       "    <tr>\n",
       "      <th>(140, 150]</th>\n",
       "      <td>31</td>\n",
       "      <td>11</td>\n",
       "    </tr>\n",
       "  </tbody>\n",
       "</table>\n",
       "</div>"
      ],
      "text/plain": [
       "Patient_State       Alive  Deceased\n",
       "Serum_sodium_level                 \n",
       "(110, 130]             10        12\n",
       "(130, 135]             41        36\n",
       "(135, 140]            121        37\n",
       "(140, 150]             31        11"
      ]
     },
     "execution_count": 29,
     "metadata": {},
     "output_type": "execute_result"
    }
   ],
   "source": [
    "# Finding count after grouping by 2 variables (One continuous variable with bin)\n",
    "\n",
    "serum_sodium_groups = pd.cut(heart_raw_df['serum_sodium'], bins=[110,130, 135,140,150])  # Cut serum_sodium level into 4 parts \n",
    "\n",
    "# Apply groupby on each serium sodium group and find the count\n",
    "serum_sodium_grp_df = heart_raw_df.groupby(['DEATH_EVENT', serum_sodium_groups]).size().reset_index() \n",
    "\n",
    "\n",
    "#Rename column and column values\n",
    "serum_sodium_grp_df.rename(columns = {'serum_sodium':'Serum_sodium_level','DEATH_EVENT':'Patient_State'}, inplace = True)\n",
    "serum_sodium_grp_df[\"Patient_State\"].replace({0: 'Alive', 1: 'Deceased'}, inplace=True) #Replace boolean values to meaningful ones \n",
    "\n",
    "\n",
    "#Using pivot table to present it in more presentable format\n",
    "serum_sodium_grp_df_op = pd.pivot_table(data=serum_sodium_grp_df, index=['Serum_sodium_level'], columns=['Patient_State'], values=0)\n",
    "print(\"\\n\")\n",
    "print(\"\\033[1m\" +\"Number of patients who are alive/dead in each serium sodium range \"+ \"\\033[0m\") # to print in bold\n",
    "serum_sodium_grp_df_op"
   ]
  },
  {
   "cell_type": "markdown",
   "metadata": {},
   "source": [
    "Interpreting the table, we find that: \n",
    "\n",
    "> In the serum sodium level of 110 to 130 ---> 10 are alive and 12 are dead. \n",
    "> And in the serum sodium level of 130 to 135 ---> 41 are alive and 36 are dead.\n",
    "\n",
    "> In the serum sodium level of 135 to 140 ---> 121 are alive and 37 are dead.\n",
    "> And in the serum sodium level of 140 to 150 ---> 31 are alive and 11 are dead.\n",
    "\n",
    "This clearly shows that when the serum sodium levels are low (i.e when serum sodium concentration of <135 mEq/L ) the survival rate of the patients are less. And when the serum sodium levels aren't low (i.e when serum sodium concentration of >135 mEq/L ) the survival rate of the patients are more. Now lets plot the same."
   ]
  },
  {
   "cell_type": "code",
   "execution_count": 30,
   "metadata": {
    "ExecuteTime": {
     "end_time": "2021-11-18T03:35:41.576585Z",
     "start_time": "2021-11-18T03:35:40.932495Z"
    }
   },
   "outputs": [
    {
     "data": {
      "image/png": "[encoded data removed]",
      "text/plain": [
       "<Figure size 360x360 with 1 Axes>"
      ]
     },
     "metadata": {},
     "output_type": "display_data"
    }
   ],
   "source": [
    "sns.displot(heart_raw_df, x=\"serum_sodium\", hue=\"DEATH_EVENT\", bins=np.arange(110, 150, 10),  multiple=\"stack\", legend=False)\n",
    "plt.legend(labels=[\"Deceased\",\"Alive\"], title = \"Patient State\");"
   ]
  },
  {
   "cell_type": "markdown",
   "metadata": {},
   "source": [
    "Majority of the patients whose serum sodium concentration levels are between 135 to 150 mEq/L are alive. And majority of the patients' whose sodium levels are low are deceased. This shows that low sodium levels weakens the heart and causes its failure. "
   ]
  },
  {
   "cell_type": "markdown",
   "metadata": {
    "ExecuteTime": {
     "end_time": "2021-10-29T11:22:35.215306Z",
     "start_time": "2021-10-29T11:22:34.847909Z"
    }
   },
   "source": [
    "### Q: Does high blood pressure affect the heart and cause heart failure?"
   ]
  },
  {
   "cell_type": "markdown",
   "metadata": {},
   "source": [
    "High blood pressure forces your heart to work harder to pump blood to the rest of your body. So high blood pressure can lead to cardiovascular complications and can weaken or damage your heart. Let's see if our data backs up this fact."
   ]
  },
  {
   "cell_type": "code",
   "execution_count": 31,
   "metadata": {
    "ExecuteTime": {
     "end_time": "2021-11-18T03:35:42.347541Z",
     "start_time": "2021-11-18T03:35:41.580586Z"
    }
   },
   "outputs": [
    {
     "data": {
      "image/png": "[encoded data removed]",
      "text/plain": [
       "<Figure size 432x288 with 1 Axes>"
      ]
     },
     "metadata": {},
     "output_type": "display_data"
    }
   ],
   "source": [
    "agg_df= heart_raw_df.groupby(['high_blood_pressure','DEATH_EVENT']).size().reset_index()  #Grouping both anaemia and death_event\n",
    "bp_agg = agg_df.groupby('high_blood_pressure').agg({0: lambda x:list(x)}) #Making a list of both anaemic states \n",
    "\n",
    "# Finding sum of list of each anaemic state\n",
    "sum_list = []\n",
    "for i in range(len(bp_agg[0])):\n",
    "    sum_list.append(sum(bp_agg[0][i]))\n",
    "    sum_list.append(sum(bp_agg[0][i]))\n",
    "agg_df['sum']=sum_list\n",
    "\n",
    "# Finding percentage list the agg_df\n",
    "percentage_list = []\n",
    "for i in range(len(agg_df[0])):\n",
    "    answer = agg_df[0][i]*100/agg_df['sum'][i]\n",
    "    answer = round(answer, 2)\n",
    "    percentage_list.append(answer)\n",
    "agg_df['percentage']=percentage_list\n",
    "\n",
    "#Forming pivot table for plotting\n",
    "df_plot = heart_raw_df.groupby(['high_blood_pressure','DEATH_EVENT']).size().reset_index().pivot(columns='DEATH_EVENT', index='high_blood_pressure', values=0)\n",
    "\n",
    "#Plotting the stacked bar graph \n",
    "ax= df_plot.plot(kind='bar',  xlabel =('Condition of the patient'),ylabel=('Count'),colormap='Paired')\n",
    "ax.set_xticklabels(['Normal BP', 'High BP'], rotation=45);\n",
    "ax.legend(title='Patient State', labels=[ 'Alive','Deceased'])\n",
    "\n",
    "#Adding percentage to the stacked bar graph \n",
    "for i,rec in enumerate(ax.patches):\n",
    "    for i in range(len(agg_df[0])):\n",
    "        if rec.get_height() == agg_df[0][i]:\n",
    "            ax.text(rec.get_xy()[0]+rec.get_width()/2-0.1,rec.get_xy()[1]+rec.get_height()/2,\n",
    "                '{:.2%}'.format(agg_df['percentage'][i]/100), fontsize=12, color='black',style='italic',\n",
    "        bbox={'facecolor': 'yellow', 'alpha': 0.5, 'pad': 6})\n",
    "            break;"
   ]
  },
  {
   "cell_type": "markdown",
   "metadata": {},
   "source": [
    "Interpreting the data in the plot:\n",
    "\n",
    "> Among the people who have normal BP , 70.62% are alive and 29.38% are dead\n",
    "\n",
    "> Among the people who have High BP , 62.86% are alive and 37.14% are dead\n",
    "\n",
    "Comparing the high BP patients with the normal ones, we can infer that \n",
    "\n",
    "> People who have normal BP have more survival rate as 70% of normal BP patients have survived while only 62.86% of the high BP patients have survived.\n",
    "\n",
    "> People who have High BP have more death rates as 37% of High BP patients are dead while only 29.38% of the normal BP patients are dead.\n",
    "\n",
    "This shows that high BP does thump the heart patient."
   ]
  },
  {
   "cell_type": "markdown",
   "metadata": {},
   "source": [
    "### Q: Does less ejection fraction cause heart failure?"
   ]
  },
  {
   "cell_type": "markdown",
   "metadata": {},
   "source": [
    "Ejection fraction is the percentage of blood leaving the heart at each contraction. Higher levels of ejection fraction means more the amount of the total blood in the left ventricle is pumped out with each heartbeat. Heart failure with reduced ejection fraction happens when the muscle of the left ventricle is not pumping as well as normal wherein the ejection fraction is less than 35% (https://my.clevelandclinic.org/health/articles/16950-ejection-fraction). Let's find out if our data agrees to this medical phenomenon."
   ]
  },
  {
   "cell_type": "code",
   "execution_count": 32,
   "metadata": {
    "ExecuteTime": {
     "end_time": "2021-11-18T03:35:42.410545Z",
     "start_time": "2021-11-18T03:35:42.351542Z"
    }
   },
   "outputs": [
    {
     "name": "stdout",
     "output_type": "stream",
     "text": [
      "\n",
      "\n",
      "\u001b[1mNumber of patients who are alive/dead in each ejection_fraction range \u001b[0m\n"
     ]
    },
    {
     "data": {
      "text/html": [
       "<div>\n",
       "<style scoped>\n",
       "    .dataframe tbody tr th:only-of-type {\n",
       "        vertical-align: middle;\n",
       "    }\n",
       "\n",
       "    .dataframe tbody tr th {\n",
       "        vertical-align: top;\n",
       "    }\n",
       "\n",
       "    .dataframe thead th {\n",
       "        text-align: right;\n",
       "    }\n",
       "</style>\n",
       "<table border=\"1\" class=\"dataframe\">\n",
       "  <thead>\n",
       "    <tr style=\"text-align: right;\">\n",
       "      <th>Patient_State</th>\n",
       "      <th>Alive</th>\n",
       "      <th>Deceased</th>\n",
       "    </tr>\n",
       "    <tr>\n",
       "      <th>ejection_fraction_level</th>\n",
       "      <th></th>\n",
       "      <th></th>\n",
       "    </tr>\n",
       "  </thead>\n",
       "  <tbody>\n",
       "    <tr>\n",
       "      <th>(13, 34]</th>\n",
       "      <td>42</td>\n",
       "      <td>51</td>\n",
       "    </tr>\n",
       "    <tr>\n",
       "      <th>(34, 55]</th>\n",
       "      <td>132</td>\n",
       "      <td>38</td>\n",
       "    </tr>\n",
       "    <tr>\n",
       "      <th>(55, 80]</th>\n",
       "      <td>29</td>\n",
       "      <td>7</td>\n",
       "    </tr>\n",
       "  </tbody>\n",
       "</table>\n",
       "</div>"
      ],
      "text/plain": [
       "Patient_State            Alive  Deceased\n",
       "ejection_fraction_level                 \n",
       "(13, 34]                    42        51\n",
       "(34, 55]                   132        38\n",
       "(55, 80]                    29         7"
      ]
     },
     "execution_count": 32,
     "metadata": {},
     "output_type": "execute_result"
    }
   ],
   "source": [
    "# Finding count after grouping by 2 variables (One continuous variable with bin)\n",
    "\n",
    "ejection_fraction_groups = pd.cut(heart_raw_df['ejection_fraction'], bins=[13,34,55,80])  # Cut serum_sodium level into 4 parts \n",
    "\n",
    "# Apply groupby on each serium sodium group and find the count\n",
    "ejection_fraction_grp_df = heart_raw_df.groupby(['DEATH_EVENT', ejection_fraction_groups]).size().reset_index() \n",
    "\n",
    "\n",
    "#Rename column and column values\n",
    "ejection_fraction_grp_df.rename(columns = {'ejection_fraction':'ejection_fraction_level','DEATH_EVENT':'Patient_State'}, inplace = True)\n",
    "ejection_fraction_grp_df[\"Patient_State\"].replace({0: 'Alive', 1: 'Deceased'}, inplace=True) #Replace boolean values to meaningful ones \n",
    "\n",
    "\n",
    "#Using pivot table to present it in more presentable format\n",
    "ejection_fraction_grp_df_op = pd.pivot_table(data=ejection_fraction_grp_df, index=['ejection_fraction_level'], columns=['Patient_State'], values=0)\n",
    "print(\"\\n\")\n",
    "print(\"\\033[1m\" +\"Number of patients who are alive/dead in each ejection_fraction range \"+ \"\\033[0m\") # to print in bold\n",
    "ejection_fraction_grp_df_op"
   ]
  },
  {
   "cell_type": "markdown",
   "metadata": {},
   "source": [
    "Interpreting the table, we find that: \n",
    "\n",
    "> In the low ejection_fraction range i.e between 13 to 34 ---> 42 are alive and 51 are dead. \n",
    "\n",
    "> In the ejection_fraction ranges i.e between 34 to 55 ---> 132 are alive and 38 are dead.\n",
    "> In the ejection_fraction level of 55 to 80 ---> 29 are alive and 7 are dead.\n",
    "\n",
    "This clearly shows that when the ejection fraction is less (i.e when ejection fraction is less than 35% ) many patients are deceased. Also when the ejection fraction isn't less (i.e when ejection fraction is greater than 35% ) more patients are alive. Now lets plot the same."
   ]
  },
  {
   "cell_type": "code",
   "execution_count": 33,
   "metadata": {
    "ExecuteTime": {
     "end_time": "2021-11-18T03:35:43.039458Z",
     "start_time": "2021-11-18T03:35:42.414545Z"
    },
    "scrolled": false
   },
   "outputs": [
    {
     "data": {
      "image/png": "[encoded data removed]",
      "text/plain": [
       "<Figure size 360x360 with 1 Axes>"
      ]
     },
     "metadata": {},
     "output_type": "display_data"
    }
   ],
   "source": [
    "sns.displot(heart_raw_df, x=\"ejection_fraction\", hue=\"DEATH_EVENT\", bins=np.arange(10, 80, 15), element=\"step\", legend=False)\n",
    "plt.legend(labels=[\"Deceased\",\"Alive\"], title = \"Patient State\");"
   ]
  },
  {
   "cell_type": "markdown",
   "metadata": {},
   "source": [
    "When the ejection fraction levels of the patients are increasing the mortality rates are slowly decreasing. This shows that low ejection fraction levels causes heart failure. "
   ]
  },
  {
   "cell_type": "markdown",
   "metadata": {},
   "source": [
    "### Q: What is the risk of heart failure in male and female diabetic smokers?  "
   ]
  },
  {
   "cell_type": "markdown",
   "metadata": {},
   "source": [
    "Heart failure can be caused by any one of the given attributes/factors in the dataset or it can be caused by combination of two or more factors. Diabetes can contribute to the development of structural heart disease and heart failure via systemic, myocardial, and cellular mechanisms. Smoking is also believed to play a vital role in trigger of heart failure. When we combine these factors we might get interesting results. Lets check them out. "
   ]
  },
  {
   "cell_type": "code",
   "execution_count": 34,
   "metadata": {
    "ExecuteTime": {
     "end_time": "2021-11-18T03:35:43.468980Z",
     "start_time": "2021-11-18T03:35:43.043027Z"
    }
   },
   "outputs": [
    {
     "name": "stderr",
     "output_type": "stream",
     "text": [
      "No handles with labels found to put in legend.\n"
     ]
    },
    {
     "data": {
      "image/png": "[encoded data removed]",
      "text/plain": [
       "<Figure size 864x576 with 2 Axes>"
      ]
     },
     "metadata": {},
     "output_type": "display_data"
    }
   ],
   "source": [
    "#Grouping data based smoker, diabetic, sex and death_event \n",
    "\n",
    "\n",
    "grp_df2= heart_raw_df.groupby(['smoking','diabetes','sex','DEATH_EVENT']).size().to_frame('size').reset_index()  \n",
    "\n",
    "#Selecting diabetic smokers\n",
    "smoker_diabetic_female=grp_df2.loc[(grp_df2['smoking'] == 1) & (grp_df2['diabetes'] == 1) & (grp_df2['sex'] == 0)]\n",
    "smoker_diabetic_male=grp_df2.loc[(grp_df2['smoking'] == 1) & (grp_df2['diabetes'] == 1) & (grp_df2['sex'] == 1)]\n",
    "\n",
    "#Plotting the diabetic smokers based on gender and death status\n",
    "fig, axes = plt.subplots(1, 2, figsize=(12, 8))\n",
    "\n",
    "smoker_diabetic_male.plot(kind='pie', colormap='Set2',autopct='%.2f%%', ylabel='', explode=(0.1,0.2),\n",
    "              startangle=300,title ='Men who are smokers and diabetic',y='size',labels=['Alive','Deceased' ],ax=axes[0])\n",
    "plt.legend(bbox_to_anchor=(1.0, 1.0));\n",
    "\n",
    "\n",
    "smoker_diabetic_female.plot(kind='pie', colormap='Set1',autopct='%.2f%%', ylabel='',startangle=300,\n",
    "              labels=['Deceased','Alive' ], title ='Women who are smokers and diabetic',y='size',ax=axes[1])\n",
    "plt.legend(bbox_to_anchor=(1.0, 1.0));"
   ]
  },
  {
   "cell_type": "markdown",
   "metadata": {},
   "source": [
    "From the plot we find that among the smokers who are diabetic as well\n",
    "\n",
    "> Men - 64.29% are alive and 35.71% of the patients had heart failure and are deceased. \n",
    "\n",
    "> Women  - None of the diabetic smokers survived. 100% deceased.\n",
    "\n",
    "This shows when diabetic smokers are female the survival rates are low compared to diabetic smokers who are male."
   ]
  },
  {
   "cell_type": "markdown",
   "metadata": {},
   "source": [
    "### Q: Can heart failure occur with high creatinine levels ?"
   ]
  },
  {
   "cell_type": "markdown",
   "metadata": {},
   "source": [
    "#### Creatinine\n",
    "Creatinine is a waste product in your blood that comes from your muscles. Patients with severe heart failure, particularly those on large doses of diuretics for long periods may have higher creatinine levels. For more details click [here](https://www.medscape.com/answers/163062-86254/what-is-the-role-of-renal-function-tests-in-the-diagnosis-of-heart-failure). We have creatine phosphokinase and serum creatinine in our dataset. \n",
    "\n",
    "##### Creatine kinase or creatine phosphokinase\n",
    "Creatine kinase or creatine phosphokinase is an enzyme chiefly found in the brain, skeletal muscles, and heart. Generally an elevated level of creatine kinase is seen in heart attacks, when the heart muscle is damaged, or in conditions that produce damage to the skeletal muscles or brain. \n",
    "\n",
    "Creatine phosphokinase (CPK) elevations are frequently classified as mild, moderate, or severe. These classifications roughly correspond to less than 10 times the upper limit of normal (or 2,000 IU/L), 10 to 50 times the upper limit of normal (or 2,000 IU/L to 10,000 IU/L), and greater than 50 times the upper limit of normal (or greater than 10,000 IU/L), respectively (2). The risk of renal failure increases above 5,000 to 6,000 IU/L. For more details click [here](https://www.clinicalcorrelations.org/2010/11/03/creatine-kinase-how-much-is-too-much/)\n",
    "\n",
    "##### Serum creatinine\n",
    "Serum creatinine level is based on a blood test that measures the amount of creatinine in your blood. In general, elevated serum creatinine i.e serum creatinine level ≥354 µmol/L (≥4 mg/dL) has been associated with increased mortality in hypertensive persons, the elderly, and patients with heart failure or stroke in whom cardiovascular disease is the major cause of death. For more details click [here](https://academic.oup.com/eurheartj/article/33/17/2135/483602)\n",
    "\n",
    "So according to medical observations, elevated levels of creatine phosphokinase i.e creatine phosphokinase level greater than 5,000 IU/L and elevated levels of serum creatinine i.e creatine phosphokinase level greater than ≥4 mg/dL have been associated with heart disease. Let's check out the same. "
   ]
  },
  {
   "cell_type": "code",
   "execution_count": 35,
   "metadata": {
    "ExecuteTime": {
     "end_time": "2021-11-18T03:35:46.168490Z",
     "start_time": "2021-11-18T03:35:43.471981Z"
    }
   },
   "outputs": [
    {
     "name": "stderr",
     "output_type": "stream",
     "text": [
      "D:\\Anaconda\\lib\\site-packages\\pandas\\core\\frame.py:4296: SettingWithCopyWarning: \n",
      "A value is trying to be set on a copy of a slice from a DataFrame\n",
      "\n",
      "See the caveats in the documentation: https://pandas.pydata.org/pandas-docs/stable/user_guide/indexing.html#returning-a-view-versus-a-copy\n",
      "  return super().rename(\n",
      "D:\\Anaconda\\lib\\site-packages\\pandas\\core\\series.py:4563: SettingWithCopyWarning: \n",
      "A value is trying to be set on a copy of a slice from a DataFrame\n",
      "\n",
      "See the caveats in the documentation: https://pandas.pydata.org/pandas-docs/stable/user_guide/indexing.html#returning-a-view-versus-a-copy\n",
      "  return super().replace(\n"
     ]
    },
    {
     "data": {
      "image/png": "[encoded data removed]",
      "text/plain": [
       "<Figure size 720x432 with 1 Axes>"
      ]
     },
     "metadata": {},
     "output_type": "display_data"
    },
    {
     "data": {
      "image/png": "[encoded data removed]",
      "text/plain": [
       "<Figure size 449.1x360 with 1 Axes>"
      ]
     },
     "metadata": {},
     "output_type": "display_data"
    }
   ],
   "source": [
    "#Grouping data based serum_creatinine, creatinine_phosphokinase and death_event \n",
    "grp_df2= heart_raw_df.groupby(['serum_creatinine','creatinine_phosphokinase','DEATH_EVENT']).size().to_frame('size').reset_index()  \n",
    "\n",
    "#Selecting Patients with high chemical levels (serum_creatinine & creatinine_phosphokinase)\n",
    "high_chemical_level=grp_df2.loc[ (grp_df2['serum_creatinine'] > 4) | (grp_df2['creatinine_phosphokinase'] > 5000)]\n",
    "\n",
    "#Grouping them based on alive/dead\n",
    "grp_df3= high_chemical_level.groupby(['DEATH_EVENT']).size().to_frame('size').reset_index()\n",
    "\n",
    "\n",
    "\n",
    "#Plotting the group in pie chart\n",
    "ax= grp_df3.plot(kind='pie', colormap='Accent',autopct='%.2f%%', ylabel='', explode=(0.1,0.2), startangle=300, figsize=(10,6),\n",
    "             title ='Patients with high chemical levels (serum_creatinine & creatinine_phosphokinase)',y='size',labels=['Alive','Deceased'])\n",
    "plt.legend(bbox_to_anchor=(1.0, 1.0));\n",
    "\n",
    "\n",
    "#Rename column and column values\n",
    "high_chemical_level.rename(columns = {'DEATH_EVENT':'Patient_State'}, inplace = True)\n",
    "high_chemical_level[\"Patient_State\"].replace({0: 'Alive', 1: 'Deceased'}, inplace=True) #Replace boolean values to meaningful ones \n",
    "\n",
    "sns.displot(high_chemical_level, x=\"creatinine_phosphokinase\", y=\"serum_creatinine\",\n",
    "            hue=\"Patient_State\", kind=\"kde\",legend=True);\n",
    "\n",
    "plt.tight_layout()"
   ]
  },
  {
   "cell_type": "markdown",
   "metadata": {},
   "source": [
    "From the pie chart it is clear that 72.73% of patients with high levels of serum_creatinine and creatinine_phosphokinase are deaceased. And only 27.27% of these patients are alive. This shows that higher levels does cause heart failure. \n",
    "\n",
    "From the second plot it is evident that as the creatinine levels increases, the death rate also increases subsequently. This again shows that higher creatinine levels cause heart failure and reduce survial rates. "
   ]
  },
  {
   "cell_type": "markdown",
   "metadata": {},
   "source": [
    "### Inferences and Conclusions\n",
    "\n",
    "We've drawn many inferences from the survey. Here's a summary of them:"
   ]
  },
  {
   "cell_type": "markdown",
   "metadata": {},
   "source": [
    "-  Based on the heart disease survey respondents' data, this survey is somewhat representative of all the major attributes that are responsible for the heart disease. However the patient data could have been more diverse in terms of age, gender, number of respondents and death status. \n",
    "\n",
    "\n",
    "-  The patient data corroborates some of the major medical observations of heart disease and they are:\n",
    "\n",
    "    * Low serum sodium level (serum sodium concentration of <135 mEq/L ) or hyponatremia is one of the most common biochemical feature in heart failure patients, with a prevalence close to 25%. \n",
    "    \n",
    "    * When the ejection fraction is less (i.e when ejection fraction is less than 35% ) many patients are deceased. Also when the ejection fraction isn't less (i.e when ejection fraction is greater than 35% ) more patients are alive.\n",
    "    \n",
    "    * Elevated levels of creatine phosphokinase( i.e creatine phosphokinase level greater than 5,000 IU/L ) and elevated levels of serum creatinine( i.e creatine phosphokinase level greater than ≥4 mg/dL ) have been associated with heart failure. \n",
    "    \n",
    "    \n",
    "-  Heart failures were more when the patients had High BP. Anaemia also seemed to affect the heart function and cause its failure.\n",
    "\n",
    "\n",
    "-  Smoking and diabetes are some of the well believed triggers of the heart disease. But when diabetic smokers are female the survival rates are low compared to diabetic smokers who are male.\n",
    "\n",
    "\n",
    "*  Learning the possible reasons for heart failure is a real eye opener. What is more important is to prevent them and lead happy life with good heart."
   ]
  },
  {
   "cell_type": "code",
   "execution_count": null,
   "metadata": {},
   "outputs": [],
   "source": []
  },
  {
   "cell_type": "markdown",
   "metadata": {},
   "source": [
    "### References and Future Work\n",
    "\n",
    "* Tanvir Ahmad, Assia Munir, Sajjad Haider Bhatti, Muhammad Aftab, and Muhammad Ali Raza: \"Survival analysis of heart failure patients: a case study\". PLoS ONE 12(7), 0181001 (2017). [Web Link](https://journals.plos.org/plosone/article?id=10.1371/journal.pone.0181001)\n",
    "\n",
    "* Davide Chicco, Giuseppe Jurman: \"Machine learning can predict survival of patients with heart failure from serum creatinine and ejection fraction alone\". BMC Medical Informatics and Decision Making 20, 16 (2020). [Web Link](https://bmcmedinformdecismak.biomedcentral.com/articles/10.1186/s12911-020-1023-5)"
   ]
  },
  {
   "cell_type": "code",
   "execution_count": null,
   "metadata": {},
   "outputs": [],
   "source": []
  }
 ],
 "metadata": {
  "kernelspec": {
   "display_name": "Python 3",
   "language": "python",
   "name": "python3"
  },
  "language_info": {
   "codemirror_mode": {
    "name": "ipython",
    "version": 3
   },
   "file_extension": ".py",
   "mimetype": "text/x-python",
   "name": "python",
   "nbconvert_exporter": "python",
   "pygments_lexer": "ipython3",
   "version": "3.8.5"
  }
 },
 "nbformat": 4,
 "nbformat_minor": 4
}
